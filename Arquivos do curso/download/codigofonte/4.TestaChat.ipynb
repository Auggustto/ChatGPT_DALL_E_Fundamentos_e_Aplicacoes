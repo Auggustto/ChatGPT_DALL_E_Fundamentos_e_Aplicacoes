{
 "cells": [
  {
   "cell_type": "code",
   "execution_count": 1,
   "id": "19ecbad1-2a82-4640-8ccc-b780e4dd575e",
   "metadata": {},
   "outputs": [
    {
     "name": "stdout",
     "output_type": "stream",
     "text": [
      "{\"resposta\":\"\\n\\nCarl Sagan foi um astr\\u00f4nomo americano, astrof\\u00edsico e cientista planet\\u00e1rio. Suas principais contribui\\u00e7\\u00f5es foram no campo da astronomia e ci\\u00eancia planet\\u00e1ria. Ele foi o principal principal arquiteto da sonda espacial Voyager, que enviou as primeiras imagens das outras gal\\u00e1xias e sistemas planet\\u00e1rios. Sagan tamb\\u00e9m foi respons\\u00e1vel pela cria\\u00e7\\u00e3o do programa de televis\\u00e3o Cosmos, emitido pela PBS de 1980 a 1981, que explicava a beleza e complexidade do universo. Ele foi cunhado da palavra \\\"exobiologia\\\" para se referir ao estudo da vida fora da Terra. Ele foi um defensor ativo dos direitos dos direitos animais e um l\\u00edder da luta ambiental.\"}\n",
      "\n"
     ]
    }
   ],
   "source": [
    "import requests\n",
    "x = requests.get(\"http://127.0.0.1:5000/chatbot?pergunta=quem foi Carl Sagan\")\n",
    "print(x.text)"
   ]
  },
  {
   "cell_type": "code",
   "execution_count": null,
   "id": "d637abe4-c4a5-4cf9-a058-65e76d7e03c8",
   "metadata": {},
   "outputs": [],
   "source": []
  }
 ],
 "metadata": {
  "kernelspec": {
   "display_name": "Python 3 (ipykernel)",
   "language": "python",
   "name": "python3"
  },
  "language_info": {
   "codemirror_mode": {
    "name": "ipython",
    "version": 3
   },
   "file_extension": ".py",
   "mimetype": "text/x-python",
   "name": "python",
   "nbconvert_exporter": "python",
   "pygments_lexer": "ipython3",
   "version": "3.9.7"
  }
 },
 "nbformat": 4,
 "nbformat_minor": 5
}
